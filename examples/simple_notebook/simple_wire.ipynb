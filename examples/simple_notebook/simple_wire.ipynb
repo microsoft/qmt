{
 "cells": [
  {
   "cell_type": "code",
   "execution_count": 1,
   "metadata": {},
   "outputs": [],
   "source": [
    "from qmt import Materials\n",
    "from qmt.physics_constants import parse_unit,to_float\n",
    "from qmt.tasks import build_3d_geometry\n",
    "from qmt.data import Part3DData\n",
    "import pickle, logging\n",
    "import matplotlib.pyplot as plt\n",
    "import numpy as np\n",
    "from scipy.interpolate import griddata"
   ]
  },
  {
   "cell_type": "markdown",
   "metadata": {},
   "source": [
    "Load some 2D shapes from simple_wire.FCStd, and then build some a 3D structure out of them"
   ]
  },
  {
   "cell_type": "code",
   "execution_count": 2,
   "metadata": {},
   "outputs": [
    {
     "data": {
      "text/plain": [
       "'built_geo.fcstd'"
      ]
     },
     "execution_count": 2,
     "metadata": {},
     "output_type": "execute_result"
    }
   ],
   "source": [
    "back_gate = Part3DData('back_gate','Sketch','extrude',\n",
    "                       domain_type='metal_gate',material='Al',\n",
    "                       z0=-0.2,thickness=0.1,boundary_condition={'voltage':0.0},mesh_max_size=0.1)\n",
    "vacuum = Part3DData('vacuum','Sketch003','extrude',\n",
    "                    domain_type='dielectric',material='air',\n",
    "                    z0=-0.5,thickness=1.0,mesh_max_size=0.05)\n",
    "wire = Part3DData('wire','Sketch002','extrude',\n",
    "                  domain_type='semiconductor',material='InSb',\n",
    "                  z0 = 0.0,thickness=0.1,mesh_max_size=0.01)\n",
    "shell = Part3DData('shell','Sketch002','extrude',\n",
    "                  domain_type='metal_gate',material='Al',\n",
    "                  z0 = 0.1,thickness=0.05,mesh_max_size=0.01,boundary_condition={'voltage':0.0})\n",
    "build_order = [wire,shell,back_gate,vacuum]\n",
    "file_path = './simple_wire.FCStd'\n",
    "geo_data = build_3d_geometry(input_parts=build_order,input_file=file_path,\n",
    "                             xsec_dict={'central':{'axis':(1.,0.,0.),'distance':0.}})\n",
    "geo_data.write_fcstd('built_geo.fcstd')"
   ]
  },
  {
   "cell_type": "markdown",
   "metadata": {},
   "source": [
    "At this point you can try opening built_geo.fcstd with FreeCAD and taking a look at the built shape. Feel free to skip this step if you're unfamiliar with the FreeCAD GUI.\n",
    "We can check that our cross sections and parts are as expected:"
   ]
  },
  {
   "cell_type": "code",
   "execution_count": 3,
   "metadata": {},
   "outputs": [
    {
     "data": {
      "text/plain": [
       "{'central': {'axis': (1.0, 0.0, 0.0),\n",
       "  'distance': 0.0,\n",
       "  'polygons': {'wire_0': [<map at 0x7fa9e5252278>,\n",
       "    <map at 0x7fa9e52522e8>,\n",
       "    <map at 0x7fa9e5252358>,\n",
       "    <map at 0x7fa9e52523c8>],\n",
       "   'shell_0': [<map at 0x7fa9e52529b0>,\n",
       "    <map at 0x7fa9e5252a20>,\n",
       "    <map at 0x7fa9e5252ac8>,\n",
       "    <map at 0x7fa9e5252b70>],\n",
       "   'back_gate_0': [<map at 0x7fa9e52551d0>,\n",
       "    <map at 0x7fa9e5255240>,\n",
       "    <map at 0x7fa9e52552e8>,\n",
       "    <map at 0x7fa9e5255390>],\n",
       "   'vacuum_0': [<map at 0x7fa9e5259470>,\n",
       "    <map at 0x7fa9e52594e0>,\n",
       "    <map at 0x7fa9e5259588>,\n",
       "    <map at 0x7fa9e5259630>],\n",
       "   'vacuum_1': [<map at 0x7fa9e5259710>,\n",
       "    <map at 0x7fa9e5259780>,\n",
       "    <map at 0x7fa9e5259828>,\n",
       "    <map at 0x7fa9e52598d0>],\n",
       "   'vacuum_2': [<map at 0x7fa9e52599b0>,\n",
       "    <map at 0x7fa9e5259a20>,\n",
       "    <map at 0x7fa9e5259ac8>,\n",
       "    <map at 0x7fa9e5259b70>]}}}"
      ]
     },
     "execution_count": 3,
     "metadata": {},
     "output_type": "execute_result"
    }
   ],
   "source": [
    "geo_data.xsecs"
   ]
  },
  {
   "cell_type": "code",
   "execution_count": 4,
   "metadata": {},
   "outputs": [
    {
     "data": {
      "text/plain": [
       "{'wire': <qmt.data.geometry.Part3DData at 0x7fa9f878ba58>,\n",
       " 'shell': <qmt.data.geometry.Part3DData at 0x7fa9f878ba90>,\n",
       " 'back_gate': <qmt.data.geometry.Part3DData at 0x7fa9f878ba20>,\n",
       " 'vacuum': <qmt.data.geometry.Part3DData at 0x7fa9f878b9e8>}"
      ]
     },
     "execution_count": 4,
     "metadata": {},
     "output_type": "execute_result"
    }
   ],
   "source": [
    "geo_data.parts"
   ]
  },
  {
   "cell_type": "markdown",
   "metadata": {},
   "source": [
    "QMT can't do meshing, so we load a mesh from an example file"
   ]
  },
  {
   "cell_type": "code",
   "execution_count": 5,
   "metadata": {
    "scrolled": true
   },
   "outputs": [],
   "source": [
    "with open('mesh_data.pkl','rb') as file:\n",
    "    mesh_data = pickle.load(file)"
   ]
  },
  {
   "cell_type": "markdown",
   "metadata": {},
   "source": [
    "Determine the reference level and Al work function to get a 0.1 meV band offset between InSb and Al:"
   ]
  },
  {
   "cell_type": "code",
   "execution_count": 6,
   "metadata": {},
   "outputs": [],
   "source": [
    "mat_lib = Materials()\n",
    "Al_WF = mat_lib['Al']['workFunction']\n",
    "InSb_EA = mat_lib['InSb']['electronAffinity']\n",
    "InSb_BG = mat_lib['InSb']['directBandGap']\n",
    "InSb_VBO = mat_lib['InSb']['valenceBandOffset']\n",
    "Al_WF_level = 0.0-(Al_WF)\n",
    "InSb_CB_level = 0.0-InSb_EA+InSb_VBO\n",
    "WF_shift = 100.*parse_unit('meV')-(Al_WF_level-InSb_CB_level)\n",
    "new_Al_WF = (Al_WF-WF_shift)\n",
    "ref_level = -new_Al_WF/parse_unit('meV')"
   ]
  },
  {
   "cell_type": "markdown",
   "metadata": {},
   "source": [
    "You won't be able to run the simulation with QMT alone. Here we just load the file with simulation results"
   ]
  },
  {
   "cell_type": "code",
   "execution_count": 7,
   "metadata": {},
   "outputs": [],
   "source": [
    "# logging.basicConfig(level=logging.INFO)\n",
    "# tf_data = run_3d_thomas_fermi(mesh_data,\n",
    "#                               reference_level=ref_level,\n",
    "#                               material_properties={'Al':{'workFunction':new_Al_WF}},\n",
    "#                               eunit='meV',volume_charge_integrals=['wire'],order=1)\n",
    "with open('tf_data.pkl','rb') as file:\n",
    "    tf_data = pickle.load(file)"
   ]
  },
  {
   "cell_type": "markdown",
   "metadata": {},
   "source": [
    "First, let's check that all of the boundary conditions are respected:"
   ]
  },
  {
   "cell_type": "code",
   "execution_count": 8,
   "metadata": {},
   "outputs": [
    {
     "data": {
      "text/plain": [
       "{'wire': 3, 'shell': 4, 'back_gate': 2, 'vacuum': 1}"
      ]
     },
     "execution_count": 8,
     "metadata": {},
     "output_type": "execute_result"
    }
   ],
   "source": [
    "mesh_data.mesh_id_dict"
   ]
  },
  {
   "cell_type": "code",
   "execution_count": 9,
   "metadata": {},
   "outputs": [],
   "source": [
    "node_vals = []\n",
    "for i in range(len(mesh_data.mesh_regions)):\n",
    "    region_id = mesh_data.mesh_regions[i]\n",
    "    if region_id == 2 or region_id==4:\n",
    "        for node_idx in mesh_data.mesh_tets[i]:\n",
    "            node_vals += [tf_data.potential[node_idx]]\n",
    "assert np.alltrue(np.array(node_vals)==0.0)"
   ]
  },
  {
   "cell_type": "markdown",
   "metadata": {},
   "source": [
    "Great! Let's take a look at the potential profile to make sure it looks reasonable:"
   ]
  },
  {
   "cell_type": "code",
   "execution_count": 10,
   "metadata": {},
   "outputs": [
    {
     "data": {
      "image/png": "[encoded data removed]",
      "text/plain": [
       "<Figure size 432x288 with 2 Axes>"
      ]
     },
     "metadata": {
      "needs_background": "light"
     },
     "output_type": "display_data"
    }
   ],
   "source": [
    "femcoords = tf_data.coordinates\n",
    "femdata = tf_data.potential\n",
    "xgrid, ygrid, zgrid = np.mgrid[0:1, -0.2:0.2:0.005, -0.5:0.5:0.0125]\n",
    "plot_potential = griddata(femcoords, femdata, (xgrid, ygrid, zgrid), method='linear')\n",
    "plt.pcolor(ygrid[0],zgrid[0],plot_potential[0])\n",
    "plt.colorbar()\n",
    "plt.show()"
   ]
  },
  {
   "cell_type": "markdown",
   "metadata": {},
   "source": [
    "This looks fine. Let's now look at a line cut:"
   ]
  },
  {
   "cell_type": "code",
   "execution_count": 11,
   "metadata": {},
   "outputs": [
    {
     "data": {
      "image/png": "[encoded data removed]",
      "text/plain": [
       "<Figure size 432x288 with 1 Axes>"
      ]
     },
     "metadata": {
      "needs_background": "light"
     },
     "output_type": "display_data"
    }
   ],
   "source": [
    "xgrid, ygrid, zgrid = np.mgrid[0:1, 0:1, -0.2:0.2:0.002]\n",
    "potential_cut = griddata(femcoords, femdata, (xgrid, ygrid, zgrid), method='linear')\n",
    "plt.plot(zgrid[0,0],potential_cut[0,0])\n",
    "plt.show()"
   ]
  },
  {
   "cell_type": "markdown",
   "metadata": {},
   "source": [
    "This all looks fine. In the region between 0.0 and 0.1, we have accumulation. Let's make sure this holds up when taking into account the conduction band offset:"
   ]
  },
  {
   "cell_type": "code",
   "execution_count": 12,
   "metadata": {},
   "outputs": [
    {
     "data": {
      "image/png": "[encoded data removed]",
      "text/plain": [
       "<Figure size 432x288 with 1 Axes>"
      ]
     },
     "metadata": {
      "needs_background": "light"
     },
     "output_type": "display_data"
    }
   ],
   "source": [
    "xgrid, ygrid, zgrid = np.mgrid[0:1, 0:1, 0:0.1:0.0005]\n",
    "potential_cut = griddata(femcoords, femdata, (xgrid, ygrid, zgrid), method='linear')\n",
    "plt.plot(zgrid[0,0],potential_cut[0,0])\n",
    "plt.show()"
   ]
  },
  {
   "cell_type": "markdown",
   "metadata": {},
   "source": [
    "Putting in the proper band offsets, we get:"
   ]
  },
  {
   "cell_type": "code",
   "execution_count": 13,
   "metadata": {
    "scrolled": true
   },
   "outputs": [
    {
     "data": {
      "image/png": "[encoded data removed]",
      "text/plain": [
       "<Figure size 432x288 with 1 Axes>"
      ]
     },
     "metadata": {
      "needs_background": "light"
     },
     "output_type": "display_data"
    }
   ],
   "source": [
    "zvec = zgrid[0,0]\n",
    "potential_cut = potential_cut[0,0]\n",
    "offset_CB = (InSb_CB_level/parse_unit('meV')-ref_level)/1e3\n",
    "offset_VB = offset_CB-InSb_BG/parse_unit('meV')/1e3\n",
    "plt.plot(zvec,offset_CB-potential_cut)\n",
    "plt.plot(zvec,offset_VB-potential_cut)\n",
    "plt.plot(zvec,np.zeros(zvec.shape))\n",
    "plt.show()"
   ]
  },
  {
   "cell_type": "code",
   "execution_count": null,
   "metadata": {},
   "outputs": [],
   "source": []
  }
 ],
 "metadata": {
  "kernelspec": {
   "display_name": "Python 3",
   "language": "python",
   "name": "python3"
  },
  "language_info": {
   "codemirror_mode": {
    "name": "ipython",
    "version": 3
   },
   "file_extension": ".py",
   "mimetype": "text/x-python",
   "name": "python",
   "nbconvert_exporter": "python",
   "pygments_lexer": "ipython3",
   "version": "3.6.7"
  }
 },
 "nbformat": 4,
 "nbformat_minor": 2
}
