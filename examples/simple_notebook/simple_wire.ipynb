{
 "cells": [
  {
   "cell_type": "code",
   "execution_count": null,
   "metadata": {},
   "outputs": [],
   "source": [
    "from qmt.physics_constants import parse_unit,to_float\n",
    "from qmt.geometry import part_3d, build_3d_geometry\n",
    "from qmt.materials import Materials, build_materials, make_materials_library\n",
    "import pickle, logging\n",
    "import matplotlib.pyplot as plt\n",
    "import numpy as np\n",
    "from scipy.interpolate import griddata"
   ]
  },
  {
   "cell_type": "markdown",
   "metadata": {},
   "source": [
    "Load some 2D shapes from simple_wire.FCStd, and then build some a 3D structure out of them"
   ]
  },
  {
   "cell_type": "code",
   "execution_count": null,
   "metadata": {},
   "outputs": [],
   "source": [
    "back_gate = part_3d.ExtrudePart(\"back_gate\", \"Sketch\", z0=-0.2, thickness=0.1)\n",
    "vacuum = part_3d.ExtrudePart(\"vacuum\", \"Sketch003\", z0=-0.5, thickness=1.0)\n",
    "wire = part_3d.ExtrudePart(\"wire\", \"Sketch002\", z0=0.0, thickness=0.1)\n",
    "shell = part_3d.ExtrudePart(\"shell\", \"Sketch002\", z0=0.1, thickness=0.05)\n",
    "build_order = [wire, shell, back_gate, vacuum]\n",
    "file_path = './simple_wire.FCStd'\n",
    "geo_data = build_3d_geometry(input_parts=build_order, input_file=file_path,\n",
    "                             xsec_dict={'central':{'axis':(1.,0.,0.),'distance':0.}})\n",
    "geo_data.write_fcstd('built_geo.fcstd')"
   ]
  },
  {
   "cell_type": "markdown",
   "metadata": {},
   "source": [
    "At this point you can try opening built_geo.fcstd with FreeCAD and taking a look at the built shape. Feel free to skip this step if you're unfamiliar with the FreeCAD GUI.\n",
    "We can check that our cross sections and parts are as expected:"
   ]
  },
  {
   "cell_type": "code",
   "execution_count": 3,
   "metadata": {},
   "outputs": [
    {
     "data": {
      "text/plain": [
       "{'central': {'axis': (1.0, 0.0, 0.0),\n",
       "  'distance': 0.0,\n",
       "  'polygons': {'wire_0': [[0.0, 0.05, 0.1],\n",
       "    [0.0, 0.05, 0.0],\n",
       "    [0.0, -0.05, 0.0],\n",
       "    [0.0, -0.05, 0.1]],\n",
       "   'shell_0': [[0.0, 0.05, 0.15000000000000002],\n",
       "    [0.0, 0.05, 0.1],\n",
       "    [0.0, -0.05, 0.1],\n",
       "    [0.0, -0.05, 0.15000000000000002]],\n",
       "   'back_gate_0': [[0.0, 0.25, -0.1],\n",
       "    [0.0, 0.25, -0.2],\n",
       "    [0.0, -0.25, -0.2],\n",
       "    [0.0, -0.25, -0.1]],\n",
       "   'vacuum_0': [[0.0, -0.5, 0.5],\n",
       "    [0.0, 0.5, 0.5],\n",
       "    [0.0, 0.5, -0.5],\n",
       "    [0.0, -0.5, -0.5]],\n",
       "   'vacuum_1': [[0.0, -0.25, -0.1],\n",
       "    [0.0, 0.25, -0.1],\n",
       "    [0.0, 0.25, -0.2],\n",
       "    [0.0, -0.25, -0.2]],\n",
       "   'vacuum_2': [[0.0, -0.05, 0.0],\n",
       "    [0.0, 0.05, 0.0],\n",
       "    [0.0, 0.05, 0.15000000000000002],\n",
       "    [0.0, -0.05, 0.15000000000000002]]}}}"
      ]
     },
     "execution_count": 3,
     "metadata": {},
     "output_type": "execute_result"
    }
   ],
   "source": [
    "geo_data.xsecs"
   ]
  },
  {
   "cell_type": "code",
   "execution_count": 4,
   "metadata": {},
   "outputs": [
    {
     "data": {
      "text/plain": [
       "{'wire': <qmt.geometry.part_3d.ExtrudePart at 0x7f1fadf0f240>,\n",
       " 'shell': <qmt.geometry.part_3d.ExtrudePart at 0x7f1fa7cba2e8>,\n",
       " 'back_gate': <qmt.geometry.part_3d.ExtrudePart at 0x7f1fa7cba278>,\n",
       " 'vacuum': <qmt.geometry.part_3d.ExtrudePart at 0x7f1fa7cba3c8>}"
      ]
     },
     "execution_count": 4,
     "metadata": {},
     "output_type": "execute_result"
    }
   ],
   "source": [
    "geo_data.parts"
   ]
  },
  {
   "cell_type": "markdown",
   "metadata": {},
   "source": [
    "QMT can't do meshing, so we load a mesh from an example file"
   ]
  },
  {
   "cell_type": "code",
   "execution_count": 5,
   "metadata": {
    "scrolled": true
   },
   "outputs": [],
   "source": [
    "with open('mesh_data.pkl','rb') as file:\n",
    "    mesh_data = pickle.load(file)"
   ]
  },
  {
   "cell_type": "markdown",
   "metadata": {},
   "source": [
    "Determine the reference level and Al work function to get a 0.1 meV band offset between InSb and Al:"
   ]
  },
  {
   "cell_type": "code",
   "execution_count": 6,
   "metadata": {},
   "outputs": [],
   "source": [
    "mat_lib = Materials()\n",
    "Al_WF = mat_lib['Al']['workFunction']\n",
    "InSb_EA = mat_lib['InSb']['electronAffinity']\n",
    "InSb_BG = mat_lib['InSb']['directBandGap']\n",
    "InSb_VBO = mat_lib['InSb']['valenceBandOffset']\n",
    "Al_WF_level = 0.0-(Al_WF)\n",
    "InSb_CB_level = 0.0-InSb_EA+InSb_VBO\n",
    "WF_shift = 200.*parse_unit('meV')-(Al_WF_level-InSb_CB_level)\n",
    "new_Al_WF = (Al_WF-WF_shift)\n",
    "ref_level = -new_Al_WF/parse_unit('meV')\n",
    "\n",
    "mat_lib = make_materials_library({\"Al\":{\"workFunction\": new_Al_WF}})\n",
    "mat_data = build_materials(geo_data, \n",
    "                           {\"back_gate\": \"Al\", \"vacuum\": \"air\", \"wire\": \"InSb\", \"shell\": \"Al\"},\n",
    "                           mat_lib)"
   ]
  },
  {
   "cell_type": "markdown",
   "metadata": {},
   "source": [
    "You won't be able to run the simulation with QMT alone. Here we just load the file with simulation results"
   ]
  },
  {
   "cell_type": "code",
   "execution_count": 7,
   "metadata": {},
   "outputs": [],
   "source": [
    "with open('tf_data.pkl','rb') as file:\n",
    "    tf_data = pickle.load(file)"
   ]
  },
  {
   "cell_type": "markdown",
   "metadata": {},
   "source": [
    "First, let's check that all of the boundary conditions are respected:"
   ]
  },
  {
   "cell_type": "code",
   "execution_count": 8,
   "metadata": {},
   "outputs": [
    {
     "data": {
      "text/plain": [
       "{'wire': 3, 'shell': 4, 'back_gate': 2, 'vacuum': 1}"
      ]
     },
     "execution_count": 8,
     "metadata": {},
     "output_type": "execute_result"
    }
   ],
   "source": [
    "mesh_data.mesh_id_dict"
   ]
  },
  {
   "cell_type": "markdown",
   "metadata": {},
   "source": [
    "Great! Let's take a look at the potential profile to make sure it looks reasonable:"
   ]
  },
  {
   "cell_type": "code",
   "execution_count": 12,
   "metadata": {},
   "outputs": [
    {
     "data": {
      "image/png": "[encoded data removed]",
      "text/plain": [
       "<Figure size 432x288 with 2 Axes>"
      ]
     },
     "metadata": {
      "needs_background": "light"
     },
     "output_type": "display_data"
    }
   ],
   "source": [
    "femcoords = tf_data.coordinates\n",
    "femdata = tf_data.potential\n",
    "xgrid, ygrid, zgrid = np.mgrid[0:1, -0.2:0.2:0.005, -0.5:0.5:0.0125]\n",
    "plot_potential = griddata(femcoords, femdata, (xgrid, ygrid, zgrid), method='linear')\n",
    "plt.pcolor(ygrid[0],zgrid[0],plot_potential[0])\n",
    "plt.colorbar()\n",
    "plt.show()"
   ]
  },
  {
   "cell_type": "markdown",
   "metadata": {},
   "source": [
    "This looks fine. Let's now look at a line cut:"
   ]
  },
  {
   "cell_type": "code",
   "execution_count": 13,
   "metadata": {},
   "outputs": [
    {
     "data": {
      "image/png": "[encoded data removed]",
      "text/plain": [
       "<Figure size 432x288 with 1 Axes>"
      ]
     },
     "metadata": {
      "needs_background": "light"
     },
     "output_type": "display_data"
    }
   ],
   "source": [
    "xgrid, ygrid, zgrid = np.mgrid[0:1, 0:1, -0.2:0.2:0.002]\n",
    "potential_cut = griddata(femcoords, femdata, (xgrid, ygrid, zgrid), method='linear')\n",
    "plt.plot(zgrid[0,0],potential_cut[0,0])\n",
    "plt.show()"
   ]
  },
  {
   "cell_type": "markdown",
   "metadata": {},
   "source": [
    "This all looks fine. In the region between 0.0 and 0.1, we have accumulation. Let's make sure this holds up when taking into account the conduction band offset:"
   ]
  },
  {
   "cell_type": "code",
   "execution_count": 14,
   "metadata": {},
   "outputs": [
    {
     "data": {
      "image/png": "[encoded data removed]",
      "text/plain": [
       "<Figure size 432x288 with 1 Axes>"
      ]
     },
     "metadata": {
      "needs_background": "light"
     },
     "output_type": "display_data"
    }
   ],
   "source": [
    "xgrid, ygrid, zgrid = np.mgrid[0:1, 0:1, 0:0.1:0.0005]\n",
    "potential_cut = griddata(femcoords, femdata, (xgrid, ygrid, zgrid), method='linear')\n",
    "plt.plot(zgrid[0,0],potential_cut[0,0])\n",
    "plt.show()"
   ]
  },
  {
   "cell_type": "markdown",
   "metadata": {},
   "source": [
    "Putting in the proper band offsets, we get:"
   ]
  },
  {
   "cell_type": "code",
   "execution_count": 15,
   "metadata": {
    "scrolled": true
   },
   "outputs": [
    {
     "data": {
      "image/png": "[encoded data removed]",
      "text/plain": [
       "<Figure size 432x288 with 1 Axes>"
      ]
     },
     "metadata": {
      "needs_background": "light"
     },
     "output_type": "display_data"
    }
   ],
   "source": [
    "zvec = zgrid[0,0]\n",
    "potential_cut = potential_cut[0,0]\n",
    "offset_CB = (InSb_CB_level/parse_unit('meV')-ref_level)/1e3\n",
    "offset_VB = offset_CB-InSb_BG/parse_unit('meV')/1e3\n",
    "plt.plot(zvec,offset_CB-potential_cut)\n",
    "plt.plot(zvec,offset_VB-potential_cut)\n",
    "plt.plot(zvec,np.zeros(zvec.shape))\n",
    "plt.show()"
   ]
  }
 ],
 "metadata": {
  "kernelspec": {
   "display_name": "Python 3",
   "language": "python",
   "name": "python3"
  },
  "language_info": {
   "codemirror_mode": {
    "name": "ipython",
    "version": 3
   },
   "file_extension": ".py",
   "mimetype": "text/x-python",
   "name": "python",
   "nbconvert_exporter": "python",
   "pygments_lexer": "ipython3",
   "version": "3.6.7"
  }
 },
 "nbformat": 4,
 "nbformat_minor": 2
}
